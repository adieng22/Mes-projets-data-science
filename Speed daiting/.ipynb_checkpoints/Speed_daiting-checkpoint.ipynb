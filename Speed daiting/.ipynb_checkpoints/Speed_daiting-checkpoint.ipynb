{
 "cells": [
  {
   "cell_type": "markdown",
   "metadata": {},
   "source": [
    "\n",
    "<br>\n",
    "<div align=\"center\"><span style=\"font-family:Lucida Caligraphy;font-size:30px;color:red\">Projet 1 </span></div><br><br>\n",
    "<div align=\"right\"> </div>\n",
    "<div align=\"center\"><span style=\"font-family:Lucida Caligraphy;font-size:32px;color:green\">Qu'est-ce qui influence le choix du partenaire ?  </span></div><br><br>\n",
    "<div align=\"center\"><span style=\"font-family:Lucida Caligraphy;font-size:24px;color:blue\">Abou DIENG</span></div><br><br>\n",
    "<hr>"
   ]
  },
  {
   "cell_type": "markdown",
   "metadata": {},
   "source": [
    "# 1. Data prepation & data exploration#\n"
   ]
  },
  {
   "cell_type": "markdown",
   "metadata": {},
   "source": [
    "##### Cleaning Data \n",
    "* Etape tres importante qui vise à analyser chaque  colonne du dataset et les modifier si besoin \n",
    "    *  corrige  le  format des colonnes\n",
    "    *  supprimer  les colonnes avec trop de valeurs manquantes\n",
    "    *  corriger les valeurs  manquantes ou  erronees\n",
    "    *  Eliminer les outliers\n",
    "    *  Faire la modelisation"
   ]
  },
  {
   "cell_type": "markdown",
   "metadata": {},
   "source": [
    "## 1.1 Importations des datasets"
   ]
  },
  {
   "cell_type": "code",
   "execution_count": 286,
   "metadata": {},
   "outputs": [],
   "source": [
    "from string import ascii_letters\n",
    "import numpy as np\n",
    "import pandas as pd\n",
    "import seaborn as sns\n",
    "import matplotlib.pyplot as plt\n",
    "#sns.set(style=\"white\")\n",
    "import plotly.express as px\n",
    "import plotly.graph_objs as go\n",
    "import plotly.figure_factory as ff\n",
    "import calmap\n",
    "import folium\n",
    "\n",
    "# color pallette\n",
    "cnf = '#393e46' # confirmed - grey\n",
    "dth = '#ff2e63' # death - red\n",
    "rec = '#21bf73' # recovered - cyan\n",
    "act = '#fe9801' # active case - yellow"
   ]
  },
  {
   "cell_type": "code",
   "execution_count": 246,
   "metadata": {},
   "outputs": [],
   "source": [
    "df = pd.read_stata(\"speed.dta\")"
   ]
  },
  {
   "cell_type": "code",
   "execution_count": 247,
   "metadata": {},
   "outputs": [
    {
     "data": {
      "text/html": [
       "<div>\n",
       "<style scoped>\n",
       "    .dataframe tbody tr th:only-of-type {\n",
       "        vertical-align: middle;\n",
       "    }\n",
       "\n",
       "    .dataframe tbody tr th {\n",
       "        vertical-align: top;\n",
       "    }\n",
       "\n",
       "    .dataframe thead th {\n",
       "        text-align: right;\n",
       "    }\n",
       "</style>\n",
       "<table border=\"1\" class=\"dataframe\">\n",
       "  <thead>\n",
       "    <tr style=\"text-align: right;\">\n",
       "      <th></th>\n",
       "      <th>iid</th>\n",
       "      <th>id</th>\n",
       "      <th>gender</th>\n",
       "      <th>genre</th>\n",
       "      <th>Race</th>\n",
       "      <th>idg</th>\n",
       "      <th>condtn</th>\n",
       "      <th>wave</th>\n",
       "      <th>round</th>\n",
       "      <th>position</th>\n",
       "      <th>...</th>\n",
       "      <th>attr</th>\n",
       "      <th>sinc</th>\n",
       "      <th>intel</th>\n",
       "      <th>fun</th>\n",
       "      <th>amb</th>\n",
       "      <th>shar</th>\n",
       "      <th>like</th>\n",
       "      <th>prob</th>\n",
       "      <th>met</th>\n",
       "      <th>match_es</th>\n",
       "    </tr>\n",
       "  </thead>\n",
       "  <tbody>\n",
       "    <tr>\n",
       "      <th>0</th>\n",
       "      <td>1</td>\n",
       "      <td>1.0</td>\n",
       "      <td>0</td>\n",
       "      <td>Female</td>\n",
       "      <td>Asian</td>\n",
       "      <td>1</td>\n",
       "      <td>1</td>\n",
       "      <td>1</td>\n",
       "      <td>10</td>\n",
       "      <td>7</td>\n",
       "      <td>...</td>\n",
       "      <td>6.0</td>\n",
       "      <td>9.0</td>\n",
       "      <td>7.0</td>\n",
       "      <td>7.0</td>\n",
       "      <td>6.0</td>\n",
       "      <td>5.0</td>\n",
       "      <td>7.0</td>\n",
       "      <td>6.0</td>\n",
       "      <td>2.0</td>\n",
       "      <td>4.0</td>\n",
       "    </tr>\n",
       "    <tr>\n",
       "      <th>1</th>\n",
       "      <td>1</td>\n",
       "      <td>1.0</td>\n",
       "      <td>0</td>\n",
       "      <td>Female</td>\n",
       "      <td>Asian</td>\n",
       "      <td>1</td>\n",
       "      <td>1</td>\n",
       "      <td>1</td>\n",
       "      <td>10</td>\n",
       "      <td>7</td>\n",
       "      <td>...</td>\n",
       "      <td>7.0</td>\n",
       "      <td>8.0</td>\n",
       "      <td>7.0</td>\n",
       "      <td>8.0</td>\n",
       "      <td>5.0</td>\n",
       "      <td>6.0</td>\n",
       "      <td>7.0</td>\n",
       "      <td>5.0</td>\n",
       "      <td>1.0</td>\n",
       "      <td>4.0</td>\n",
       "    </tr>\n",
       "    <tr>\n",
       "      <th>2</th>\n",
       "      <td>1</td>\n",
       "      <td>1.0</td>\n",
       "      <td>0</td>\n",
       "      <td>Female</td>\n",
       "      <td>Asian</td>\n",
       "      <td>1</td>\n",
       "      <td>1</td>\n",
       "      <td>1</td>\n",
       "      <td>10</td>\n",
       "      <td>7</td>\n",
       "      <td>...</td>\n",
       "      <td>5.0</td>\n",
       "      <td>8.0</td>\n",
       "      <td>9.0</td>\n",
       "      <td>8.0</td>\n",
       "      <td>5.0</td>\n",
       "      <td>7.0</td>\n",
       "      <td>7.0</td>\n",
       "      <td>NaN</td>\n",
       "      <td>1.0</td>\n",
       "      <td>4.0</td>\n",
       "    </tr>\n",
       "    <tr>\n",
       "      <th>3</th>\n",
       "      <td>1</td>\n",
       "      <td>1.0</td>\n",
       "      <td>0</td>\n",
       "      <td>Female</td>\n",
       "      <td>Asian</td>\n",
       "      <td>1</td>\n",
       "      <td>1</td>\n",
       "      <td>1</td>\n",
       "      <td>10</td>\n",
       "      <td>7</td>\n",
       "      <td>...</td>\n",
       "      <td>7.0</td>\n",
       "      <td>6.0</td>\n",
       "      <td>8.0</td>\n",
       "      <td>7.0</td>\n",
       "      <td>6.0</td>\n",
       "      <td>8.0</td>\n",
       "      <td>7.0</td>\n",
       "      <td>6.0</td>\n",
       "      <td>2.0</td>\n",
       "      <td>4.0</td>\n",
       "    </tr>\n",
       "    <tr>\n",
       "      <th>4</th>\n",
       "      <td>1</td>\n",
       "      <td>1.0</td>\n",
       "      <td>0</td>\n",
       "      <td>Female</td>\n",
       "      <td>Asian</td>\n",
       "      <td>1</td>\n",
       "      <td>1</td>\n",
       "      <td>1</td>\n",
       "      <td>10</td>\n",
       "      <td>7</td>\n",
       "      <td>...</td>\n",
       "      <td>5.0</td>\n",
       "      <td>6.0</td>\n",
       "      <td>7.0</td>\n",
       "      <td>7.0</td>\n",
       "      <td>6.0</td>\n",
       "      <td>6.0</td>\n",
       "      <td>6.0</td>\n",
       "      <td>6.0</td>\n",
       "      <td>2.0</td>\n",
       "      <td>4.0</td>\n",
       "    </tr>\n",
       "  </tbody>\n",
       "</table>\n",
       "<p>5 rows × 98 columns</p>\n",
       "</div>"
      ],
      "text/plain": [
       "   iid   id  gender   genre   Race  idg  condtn  wave  round  position  ...  \\\n",
       "0    1  1.0       0  Female  Asian    1       1     1     10         7  ...   \n",
       "1    1  1.0       0  Female  Asian    1       1     1     10         7  ...   \n",
       "2    1  1.0       0  Female  Asian    1       1     1     10         7  ...   \n",
       "3    1  1.0       0  Female  Asian    1       1     1     10         7  ...   \n",
       "4    1  1.0       0  Female  Asian    1       1     1     10         7  ...   \n",
       "\n",
       "   attr  sinc  intel  fun  amb  shar  like  prob  met  match_es  \n",
       "0   6.0   9.0    7.0  7.0  6.0   5.0   7.0   6.0  2.0       4.0  \n",
       "1   7.0   8.0    7.0  8.0  5.0   6.0   7.0   5.0  1.0       4.0  \n",
       "2   5.0   8.0    9.0  8.0  5.0   7.0   7.0   NaN  1.0       4.0  \n",
       "3   7.0   6.0    8.0  7.0  6.0   8.0   7.0   6.0  2.0       4.0  \n",
       "4   5.0   6.0    7.0  7.0  6.0   6.0   6.0   6.0  2.0       4.0  \n",
       "\n",
       "[5 rows x 98 columns]"
      ]
     },
     "execution_count": 247,
     "metadata": {},
     "output_type": "execute_result"
    }
   ],
   "source": [
    "df.head()"
   ]
  },
  {
   "cell_type": "markdown",
   "metadata": {},
   "source": [
    "## 1.2 informations essentielles"
   ]
  },
  {
   "cell_type": "code",
   "execution_count": 262,
   "metadata": {
    "scrolled": true
   },
   "outputs": [
    {
     "name": "stdout",
     "output_type": "stream",
     "text": [
      "<class 'pandas.core.frame.DataFrame'>\n",
      "Int64Index: 8378 entries, 0 to 8377\n",
      "Data columns (total 98 columns):\n",
      " #   Column    Non-Null Count  Dtype   \n",
      "---  ------    --------------  -----   \n",
      " 0   iid       8378 non-null   int16   \n",
      " 1   id        8377 non-null   float64 \n",
      " 2   gender    8378 non-null   int8    \n",
      " 3   genre     8378 non-null   category\n",
      " 4   Race      8378 non-null   category\n",
      " 5   idg       8378 non-null   int8    \n",
      " 6   condtn    8378 non-null   int8    \n",
      " 7   wave      8378 non-null   int8    \n",
      " 8   round     8378 non-null   int8    \n",
      " 9   position  8378 non-null   int8    \n",
      " 10  order     8378 non-null   int8    \n",
      " 11  partner   8378 non-null   int8    \n",
      " 12  pid       8368 non-null   float64 \n",
      " 13  match     8378 non-null   int8    \n",
      " 14  int_corr  8220 non-null   float32 \n",
      " 15  samerace  8378 non-null   int8    \n",
      " 16  age_o     8274 non-null   float64 \n",
      " 17  race_o    8305 non-null   float64 \n",
      " 18  pf_o_att  8289 non-null   float32 \n",
      " 19  pf_o_sin  8289 non-null   float32 \n",
      " 20  pf_o_int  8289 non-null   float32 \n",
      " 21  pf_o_fun  8280 non-null   float32 \n",
      " 22  pf_o_amb  8271 non-null   float32 \n",
      " 23  pf_o_sha  8249 non-null   float32 \n",
      " 24  dec_o     8378 non-null   int8    \n",
      " 25  attr_o    8166 non-null   float32 \n",
      " 26  sinc_o    8091 non-null   float32 \n",
      " 27  intel_o   8072 non-null   float32 \n",
      " 28  fun_o     8018 non-null   float32 \n",
      " 29  amb_o     7656 non-null   float32 \n",
      " 30  shar_o    7302 non-null   float32 \n",
      " 31  like_o    8128 non-null   float32 \n",
      " 32  prob_o    8060 non-null   float32 \n",
      " 33  met_o     7993 non-null   float64 \n",
      " 34  age       8283 non-null   float64 \n",
      " 35  field     8378 non-null   object  \n",
      " 36  field_cd  8296 non-null   float64 \n",
      " 37  undergra  8378 non-null   object  \n",
      " 38  mn_sat    8378 non-null   object  \n",
      " 39  tuition   8378 non-null   object  \n",
      " 40  race      8315 non-null   float64 \n",
      " 41  RACE      8378 non-null   object  \n",
      " 42  imprace   8299 non-null   float64 \n",
      " 43  imprelig  8299 non-null   float64 \n",
      " 44  from      8378 non-null   object  \n",
      " 45  zipcode   8378 non-null   object  \n",
      " 46  income    8378 non-null   object  \n",
      " 47  goal      8299 non-null   float64 \n",
      " 48  date      8281 non-null   float64 \n",
      " 49  go_out    8299 non-null   float64 \n",
      " 50  career    8378 non-null   object  \n",
      " 51  sports    8299 non-null   float64 \n",
      " 52  tvsports  8299 non-null   float64 \n",
      " 53  exercise  8299 non-null   float64 \n",
      " 54  dining    8299 non-null   float64 \n",
      " 55  museums   8299 non-null   float64 \n",
      " 56  art       8299 non-null   float64 \n",
      " 57  hiking    8299 non-null   float64 \n",
      " 58  gaming    8299 non-null   float64 \n",
      " 59  clubbing  8299 non-null   float64 \n",
      " 60  reading   8299 non-null   float64 \n",
      " 61  tv        8299 non-null   float64 \n",
      " 62  theater   8299 non-null   float64 \n",
      " 63  movies    8299 non-null   float64 \n",
      " 64  concerts  8299 non-null   float64 \n",
      " 65  music     8299 non-null   float64 \n",
      " 66  shopping  8299 non-null   float64 \n",
      " 67  yoga      8299 non-null   float64 \n",
      " 68  exphappy  8277 non-null   float64 \n",
      " 69  expnum    1800 non-null   float64 \n",
      " 70  attr1_1   8299 non-null   float32 \n",
      " 71  sinc1_1   8299 non-null   float32 \n",
      " 72  intel1_1  8299 non-null   float32 \n",
      " 73  fun1_1    8289 non-null   float32 \n",
      " 74  amb1_1    8279 non-null   float32 \n",
      " 75  shar1_1   8257 non-null   float32 \n",
      " 76  attr2_1   8299 non-null   float32 \n",
      " 77  sinc2_1   8299 non-null   float32 \n",
      " 78  intel2_1  8299 non-null   float32 \n",
      " 79  fun2_1    8299 non-null   float32 \n",
      " 80  amb2_1    8289 non-null   float32 \n",
      " 81  shar2_1   8289 non-null   float32 \n",
      " 82  attr3_1   8273 non-null   float64 \n",
      " 83  sinc3_1   8273 non-null   float64 \n",
      " 84  fun3_1    8273 non-null   float64 \n",
      " 85  intel3_1  8273 non-null   float64 \n",
      " 86  amb3_1    8273 non-null   float64 \n",
      " 87  dec       8378 non-null   int8    \n",
      " 88  attr      8176 non-null   float32 \n",
      " 89  sinc      8101 non-null   float32 \n",
      " 90  intel     8082 non-null   float32 \n",
      " 91  fun       8028 non-null   float32 \n",
      " 92  amb       7666 non-null   float32 \n",
      " 93  shar      7311 non-null   float32 \n",
      " 94  like      8138 non-null   float32 \n",
      " 95  prob      8069 non-null   float32 \n",
      " 96  met       8003 non-null   float64 \n",
      " 97  match_es  7205 non-null   float32 \n",
      "dtypes: category(2), float32(36), float64(38), int16(1), int8(12), object(9)\n",
      "memory usage: 4.3+ MB\n"
     ]
    }
   ],
   "source": [
    "df.info()"
   ]
  },
  {
   "cell_type": "code",
   "execution_count": 263,
   "metadata": {},
   "outputs": [
    {
     "data": {
      "text/plain": [
       "0       4.0\n",
       "1       4.0\n",
       "2       4.0\n",
       "3       4.0\n",
       "4       4.0\n",
       "       ... \n",
       "8373    2.0\n",
       "8374    2.0\n",
       "8375    2.0\n",
       "8376    2.0\n",
       "8377    2.0\n",
       "Name: race, Length: 8378, dtype: float64"
      ]
     },
     "execution_count": 263,
     "metadata": {},
     "output_type": "execute_result"
    }
   ],
   "source": [
    "df[\"race\"]"
   ]
  },
  {
   "cell_type": "code",
   "execution_count": 249,
   "metadata": {},
   "outputs": [
    {
     "data": {
      "text/plain": [
       "(8378, 98)"
      ]
     },
     "execution_count": 249,
     "metadata": {},
     "output_type": "execute_result"
    }
   ],
   "source": [
    "df.shape"
   ]
  },
  {
   "cell_type": "code",
   "execution_count": 250,
   "metadata": {},
   "outputs": [
    {
     "data": {
      "text/plain": [
       "iid         False\n",
       "id           True\n",
       "gender      False\n",
       "genre       False\n",
       "Race        False\n",
       "            ...  \n",
       "shar         True\n",
       "like         True\n",
       "prob         True\n",
       "met          True\n",
       "match_es     True\n",
       "Length: 98, dtype: bool"
      ]
     },
     "execution_count": 250,
     "metadata": {},
     "output_type": "execute_result"
    }
   ],
   "source": [
    "df.isna().any()"
   ]
  },
  {
   "cell_type": "code",
   "execution_count": 251,
   "metadata": {},
   "outputs": [],
   "source": [
    "variables=df.columns.tolist()"
   ]
  },
  {
   "cell_type": "code",
   "execution_count": 252,
   "metadata": {},
   "outputs": [
    {
     "name": "stdout",
     "output_type": "stream",
     "text": [
      "['iid', 'id', 'gender', 'genre', 'Race', 'idg', 'condtn', 'wave', 'round', 'position', 'order', 'partner', 'pid', 'match', 'int_corr', 'samerace', 'age_o', 'race_o', 'pf_o_att', 'pf_o_sin', 'pf_o_int', 'pf_o_fun', 'pf_o_amb', 'pf_o_sha', 'dec_o', 'attr_o', 'sinc_o', 'intel_o', 'fun_o', 'amb_o', 'shar_o', 'like_o', 'prob_o', 'met_o', 'age', 'field', 'field_cd', 'undergra', 'mn_sat', 'tuition', 'race', 'RACE', 'imprace', 'imprelig', 'from', 'zipcode', 'income', 'goal', 'date', 'go_out', 'career', 'sports', 'tvsports', 'exercise', 'dining', 'museums', 'art', 'hiking', 'gaming', 'clubbing', 'reading', 'tv', 'theater', 'movies', 'concerts', 'music', 'shopping', 'yoga', 'exphappy', 'expnum', 'attr1_1', 'sinc1_1', 'intel1_1', 'fun1_1', 'amb1_1', 'shar1_1', 'attr2_1', 'sinc2_1', 'intel2_1', 'fun2_1', 'amb2_1', 'shar2_1', 'attr3_1', 'sinc3_1', 'fun3_1', 'intel3_1', 'amb3_1', 'dec', 'attr', 'sinc', 'intel', 'fun', 'amb', 'shar', 'like', 'prob', 'met', 'match_es']\n"
     ]
    }
   ],
   "source": [
    "print(variables)"
   ]
  },
  {
   "cell_type": "markdown",
   "metadata": {},
   "source": [
    "#  1.3 Les variables"
   ]
  },
  {
   "cell_type": "markdown",
   "metadata": {},
   "source": [
    "* **De façon aléatoire, nous avons choisi quelques variables pour expliquer le choix du partenaire :** \n",
    "  * ['gender',\n",
    " 'race',\n",
    " 'position',\n",
    " 'order',\n",
    " 'partner',\n",
    " 'income',\n",
    " 'age_o',\n",
    " 'date',\n",
    " 'career',\n",
    " 'expnum']"
   ]
  },
  {
   "cell_type": "code",
   "execution_count": 332,
   "metadata": {},
   "outputs": [],
   "source": [
    "data = df[['genre', 'gender','Race','position','order', 'partner','income','age_o','date', 'career', 'expnum']]"
   ]
  },
  {
   "cell_type": "code",
   "execution_count": 327,
   "metadata": {},
   "outputs": [
    {
     "name": "stdout",
     "output_type": "stream",
     "text": [
      "<class 'pandas.core.frame.DataFrame'>\n",
      "Int64Index: 8378 entries, 0 to 8377\n",
      "Data columns (total 11 columns):\n",
      " #   Column    Non-Null Count  Dtype   \n",
      "---  ------    --------------  -----   \n",
      " 0   genre     8378 non-null   category\n",
      " 1   gender    8378 non-null   int8    \n",
      " 2   Race      8378 non-null   category\n",
      " 3   position  8378 non-null   int8    \n",
      " 4   order     8378 non-null   int8    \n",
      " 5   partner   8378 non-null   int8    \n",
      " 6   income    8378 non-null   object  \n",
      " 7   age_o     8274 non-null   float64 \n",
      " 8   date      8281 non-null   float64 \n",
      " 9   career    8378 non-null   object  \n",
      " 10  expnum    1800 non-null   float64 \n",
      "dtypes: category(2), float64(3), int8(4), object(2)\n",
      "memory usage: 762.1+ KB\n"
     ]
    }
   ],
   "source": [
    "data.info()"
   ]
  },
  {
   "cell_type": "code",
   "execution_count": 254,
   "metadata": {
    "scrolled": true
   },
   "outputs": [
    {
     "data": {
      "text/html": [
       "<div>\n",
       "<style scoped>\n",
       "    .dataframe tbody tr th:only-of-type {\n",
       "        vertical-align: middle;\n",
       "    }\n",
       "\n",
       "    .dataframe tbody tr th {\n",
       "        vertical-align: top;\n",
       "    }\n",
       "\n",
       "    .dataframe thead th {\n",
       "        text-align: right;\n",
       "    }\n",
       "</style>\n",
       "<table border=\"1\" class=\"dataframe\">\n",
       "  <thead>\n",
       "    <tr style=\"text-align: right;\">\n",
       "      <th></th>\n",
       "      <th>genre</th>\n",
       "      <th>Race</th>\n",
       "      <th>position</th>\n",
       "      <th>order</th>\n",
       "      <th>partner</th>\n",
       "      <th>income</th>\n",
       "      <th>age_o</th>\n",
       "      <th>date</th>\n",
       "      <th>career</th>\n",
       "      <th>expnum</th>\n",
       "    </tr>\n",
       "  </thead>\n",
       "  <tbody>\n",
       "    <tr>\n",
       "      <th>0</th>\n",
       "      <td>Female</td>\n",
       "      <td>Asian</td>\n",
       "      <td>7</td>\n",
       "      <td>4</td>\n",
       "      <td>1</td>\n",
       "      <td>69,487.00</td>\n",
       "      <td>27.0</td>\n",
       "      <td>7.0</td>\n",
       "      <td>lawyer</td>\n",
       "      <td>2.0</td>\n",
       "    </tr>\n",
       "    <tr>\n",
       "      <th>1</th>\n",
       "      <td>Female</td>\n",
       "      <td>Asian</td>\n",
       "      <td>7</td>\n",
       "      <td>3</td>\n",
       "      <td>2</td>\n",
       "      <td>69487.00</td>\n",
       "      <td>22.0</td>\n",
       "      <td>7.0</td>\n",
       "      <td>lawyer</td>\n",
       "      <td>2.0</td>\n",
       "    </tr>\n",
       "    <tr>\n",
       "      <th>2</th>\n",
       "      <td>Female</td>\n",
       "      <td>Asian</td>\n",
       "      <td>7</td>\n",
       "      <td>10</td>\n",
       "      <td>3</td>\n",
       "      <td>69,487.00</td>\n",
       "      <td>22.0</td>\n",
       "      <td>7.0</td>\n",
       "      <td>lawyer</td>\n",
       "      <td>2.0</td>\n",
       "    </tr>\n",
       "  </tbody>\n",
       "</table>\n",
       "</div>"
      ],
      "text/plain": [
       "    genre   Race  position  order  partner     income  age_o  date  career  \\\n",
       "0  Female  Asian         7      4        1  69,487.00   27.0   7.0  lawyer   \n",
       "1  Female  Asian         7      3        2   69487.00   22.0   7.0  lawyer   \n",
       "2  Female  Asian         7     10        3  69,487.00   22.0   7.0  lawyer   \n",
       "\n",
       "   expnum  \n",
       "0     2.0  \n",
       "1     2.0  \n",
       "2     2.0  "
      ]
     },
     "execution_count": 254,
     "metadata": {},
     "output_type": "execute_result"
    }
   ],
   "source": [
    "data.head(3)"
   ]
  },
  {
   "cell_type": "code",
   "execution_count": 255,
   "metadata": {},
   "outputs": [
    {
     "data": {
      "text/plain": [
       "(8378, 10)"
      ]
     },
     "execution_count": 255,
     "metadata": {},
     "output_type": "execute_result"
    }
   ],
   "source": [
    "data.shape"
   ]
  },
  {
   "cell_type": "markdown",
   "metadata": {},
   "source": [
    "### Types de variables "
   ]
  },
  {
   "cell_type": "code",
   "execution_count": 256,
   "metadata": {},
   "outputs": [
    {
     "data": {
      "text/plain": [
       "genre       category\n",
       "Race        category\n",
       "position        int8\n",
       "order           int8\n",
       "partner         int8\n",
       "income        object\n",
       "age_o        float64\n",
       "date         float64\n",
       "career        object\n",
       "expnum       float64\n",
       "dtype: object"
      ]
     },
     "execution_count": 256,
     "metadata": {},
     "output_type": "execute_result"
    }
   ],
   "source": [
    "data.dtypes"
   ]
  },
  {
   "cell_type": "code",
   "execution_count": 220,
   "metadata": {},
   "outputs": [
    {
     "name": "stdout",
     "output_type": "stream",
     "text": [
      "<class 'pandas.core.frame.DataFrame'>\n",
      "Int64Index: 8378 entries, 0 to 8377\n",
      "Data columns (total 10 columns):\n",
      " #   Column    Non-Null Count  Dtype   \n",
      "---  ------    --------------  -----   \n",
      " 0   genre     8378 non-null   category\n",
      " 1   race      8315 non-null   float64 \n",
      " 2   position  8378 non-null   int8    \n",
      " 3   order     8378 non-null   int8    \n",
      " 4   partner   8378 non-null   int8    \n",
      " 5   income    8378 non-null   object  \n",
      " 6   age_o     8274 non-null   float64 \n",
      " 7   date      8281 non-null   float64 \n",
      " 8   career    8378 non-null   object  \n",
      " 9   expnum    1800 non-null   float64 \n",
      "dtypes: category(1), float64(4), int8(3), object(2)\n",
      "memory usage: 491.0+ KB\n"
     ]
    }
   ],
   "source": [
    "data.info()"
   ]
  },
  {
   "cell_type": "markdown",
   "metadata": {},
   "source": [
    "### Conversion des variables income et career"
   ]
  },
  {
   "cell_type": "code",
   "execution_count": 275,
   "metadata": {
    "scrolled": true
   },
   "outputs": [],
   "source": [
    "data['income'] = data.income.str.replace(',', '')"
   ]
  },
  {
   "cell_type": "code",
   "execution_count": 276,
   "metadata": {},
   "outputs": [],
   "source": [
    "data['income'] = pd.to_numeric(data['income'],errors='coerce')"
   ]
  },
  {
   "cell_type": "code",
   "execution_count": 277,
   "metadata": {},
   "outputs": [],
   "source": [
    "data['career'] = data.career.astype('category')"
   ]
  },
  {
   "cell_type": "code",
   "execution_count": 290,
   "metadata": {},
   "outputs": [
    {
     "data": {
      "text/html": [
       "<div>\n",
       "<style scoped>\n",
       "    .dataframe tbody tr th:only-of-type {\n",
       "        vertical-align: middle;\n",
       "    }\n",
       "\n",
       "    .dataframe tbody tr th {\n",
       "        vertical-align: top;\n",
       "    }\n",
       "\n",
       "    .dataframe thead th {\n",
       "        text-align: right;\n",
       "    }\n",
       "</style>\n",
       "<table border=\"1\" class=\"dataframe\">\n",
       "  <thead>\n",
       "    <tr style=\"text-align: right;\">\n",
       "      <th></th>\n",
       "      <th>genre</th>\n",
       "      <th>Race</th>\n",
       "      <th>position</th>\n",
       "      <th>order</th>\n",
       "      <th>partner</th>\n",
       "      <th>income</th>\n",
       "      <th>age_o</th>\n",
       "      <th>date</th>\n",
       "      <th>career</th>\n",
       "      <th>expnum</th>\n",
       "    </tr>\n",
       "  </thead>\n",
       "  <tbody>\n",
       "    <tr>\n",
       "      <th>0</th>\n",
       "      <td>Female</td>\n",
       "      <td>Asian</td>\n",
       "      <td>7</td>\n",
       "      <td>4</td>\n",
       "      <td>1</td>\n",
       "      <td>69,487.00</td>\n",
       "      <td>27.0</td>\n",
       "      <td>7.0</td>\n",
       "      <td>lawyer</td>\n",
       "      <td>2.0</td>\n",
       "    </tr>\n",
       "    <tr>\n",
       "      <th>1</th>\n",
       "      <td>Female</td>\n",
       "      <td>Asian</td>\n",
       "      <td>7</td>\n",
       "      <td>3</td>\n",
       "      <td>2</td>\n",
       "      <td>69487.00</td>\n",
       "      <td>22.0</td>\n",
       "      <td>7.0</td>\n",
       "      <td>lawyer</td>\n",
       "      <td>2.0</td>\n",
       "    </tr>\n",
       "    <tr>\n",
       "      <th>2</th>\n",
       "      <td>Female</td>\n",
       "      <td>Asian</td>\n",
       "      <td>7</td>\n",
       "      <td>10</td>\n",
       "      <td>3</td>\n",
       "      <td>69,487.00</td>\n",
       "      <td>22.0</td>\n",
       "      <td>7.0</td>\n",
       "      <td>lawyer</td>\n",
       "      <td>2.0</td>\n",
       "    </tr>\n",
       "    <tr>\n",
       "      <th>3</th>\n",
       "      <td>Female</td>\n",
       "      <td>Asian</td>\n",
       "      <td>7</td>\n",
       "      <td>5</td>\n",
       "      <td>4</td>\n",
       "      <td>69,487.00</td>\n",
       "      <td>23.0</td>\n",
       "      <td>7.0</td>\n",
       "      <td>lawyer</td>\n",
       "      <td>2.0</td>\n",
       "    </tr>\n",
       "    <tr>\n",
       "      <th>4</th>\n",
       "      <td>Female</td>\n",
       "      <td>Asian</td>\n",
       "      <td>7</td>\n",
       "      <td>7</td>\n",
       "      <td>5</td>\n",
       "      <td>69,487.00</td>\n",
       "      <td>24.0</td>\n",
       "      <td>7.0</td>\n",
       "      <td>lawyer</td>\n",
       "      <td>2.0</td>\n",
       "    </tr>\n",
       "  </tbody>\n",
       "</table>\n",
       "</div>"
      ],
      "text/plain": [
       "    genre   Race  position  order  partner     income  age_o  date  career  \\\n",
       "0  Female  Asian         7      4        1  69,487.00   27.0   7.0  lawyer   \n",
       "1  Female  Asian         7      3        2   69487.00   22.0   7.0  lawyer   \n",
       "2  Female  Asian         7     10        3  69,487.00   22.0   7.0  lawyer   \n",
       "3  Female  Asian         7      5        4  69,487.00   23.0   7.0  lawyer   \n",
       "4  Female  Asian         7      7        5  69,487.00   24.0   7.0  lawyer   \n",
       "\n",
       "   expnum  \n",
       "0     2.0  \n",
       "1     2.0  \n",
       "2     2.0  \n",
       "3     2.0  \n",
       "4     2.0  "
      ]
     },
     "execution_count": 290,
     "metadata": {},
     "output_type": "execute_result"
    }
   ],
   "source": [
    "data.head()"
   ]
  },
  {
   "cell_type": "code",
   "execution_count": 225,
   "metadata": {},
   "outputs": [
    {
     "data": {
      "text/plain": [
       "genre       category\n",
       "race         float64\n",
       "position        int8\n",
       "order           int8\n",
       "partner         int8\n",
       "income       float64\n",
       "age_o        float64\n",
       "date         float64\n",
       "career      category\n",
       "expnum       float64\n",
       "dtype: object"
      ]
     },
     "execution_count": 225,
     "metadata": {},
     "output_type": "execute_result"
    }
   ],
   "source": [
    "data.dtypes"
   ]
  },
  {
   "cell_type": "markdown",
   "metadata": {},
   "source": [
    "## 1.4 Statistiques descriptives"
   ]
  },
  {
   "cell_type": "markdown",
   "metadata": {},
   "source": [
    "### 1.1.4 Variables quantitatives"
   ]
  },
  {
   "cell_type": "code",
   "execution_count": 310,
   "metadata": {},
   "outputs": [
    {
     "data": {
      "text/html": [
       "<div>\n",
       "<style scoped>\n",
       "    .dataframe tbody tr th:only-of-type {\n",
       "        vertical-align: middle;\n",
       "    }\n",
       "\n",
       "    .dataframe tbody tr th {\n",
       "        vertical-align: top;\n",
       "    }\n",
       "\n",
       "    .dataframe thead th {\n",
       "        text-align: right;\n",
       "    }\n",
       "</style>\n",
       "<table border=\"1\" class=\"dataframe\">\n",
       "  <thead>\n",
       "    <tr style=\"text-align: right;\">\n",
       "      <th></th>\n",
       "      <th>genre</th>\n",
       "      <th>Race</th>\n",
       "      <th>position</th>\n",
       "      <th>order</th>\n",
       "      <th>partner</th>\n",
       "      <th>income</th>\n",
       "      <th>age_o</th>\n",
       "      <th>date</th>\n",
       "      <th>career</th>\n",
       "      <th>expnum</th>\n",
       "    </tr>\n",
       "  </thead>\n",
       "  <tbody>\n",
       "    <tr>\n",
       "      <th>count</th>\n",
       "      <td>8378</td>\n",
       "      <td>8378</td>\n",
       "      <td>8378.000000</td>\n",
       "      <td>8378.000000</td>\n",
       "      <td>8378.000000</td>\n",
       "      <td>8378</td>\n",
       "      <td>8274.000000</td>\n",
       "      <td>8281.000000</td>\n",
       "      <td>8378</td>\n",
       "      <td>1800.000000</td>\n",
       "    </tr>\n",
       "    <tr>\n",
       "      <th>unique</th>\n",
       "      <td>2</td>\n",
       "      <td>5</td>\n",
       "      <td>NaN</td>\n",
       "      <td>NaN</td>\n",
       "      <td>NaN</td>\n",
       "      <td>263</td>\n",
       "      <td>NaN</td>\n",
       "      <td>NaN</td>\n",
       "      <td>368</td>\n",
       "      <td>NaN</td>\n",
       "    </tr>\n",
       "    <tr>\n",
       "      <th>top</th>\n",
       "      <td>Male</td>\n",
       "      <td>White</td>\n",
       "      <td>NaN</td>\n",
       "      <td>NaN</td>\n",
       "      <td>NaN</td>\n",
       "      <td></td>\n",
       "      <td>NaN</td>\n",
       "      <td>NaN</td>\n",
       "      <td>Finance</td>\n",
       "      <td>NaN</td>\n",
       "    </tr>\n",
       "    <tr>\n",
       "      <th>freq</th>\n",
       "      <td>4194</td>\n",
       "      <td>4727</td>\n",
       "      <td>NaN</td>\n",
       "      <td>NaN</td>\n",
       "      <td>NaN</td>\n",
       "      <td>4099</td>\n",
       "      <td>NaN</td>\n",
       "      <td>NaN</td>\n",
       "      <td>202</td>\n",
       "      <td>NaN</td>\n",
       "    </tr>\n",
       "    <tr>\n",
       "      <th>mean</th>\n",
       "      <td>NaN</td>\n",
       "      <td>NaN</td>\n",
       "      <td>9.042731</td>\n",
       "      <td>8.927668</td>\n",
       "      <td>8.963595</td>\n",
       "      <td>NaN</td>\n",
       "      <td>26.364999</td>\n",
       "      <td>5.006762</td>\n",
       "      <td>NaN</td>\n",
       "      <td>5.570556</td>\n",
       "    </tr>\n",
       "    <tr>\n",
       "      <th>std</th>\n",
       "      <td>NaN</td>\n",
       "      <td>NaN</td>\n",
       "      <td>5.514939</td>\n",
       "      <td>5.477009</td>\n",
       "      <td>5.491068</td>\n",
       "      <td>NaN</td>\n",
       "      <td>3.563648</td>\n",
       "      <td>1.444531</td>\n",
       "      <td>NaN</td>\n",
       "      <td>4.762569</td>\n",
       "    </tr>\n",
       "    <tr>\n",
       "      <th>min</th>\n",
       "      <td>NaN</td>\n",
       "      <td>NaN</td>\n",
       "      <td>1.000000</td>\n",
       "      <td>1.000000</td>\n",
       "      <td>1.000000</td>\n",
       "      <td>NaN</td>\n",
       "      <td>18.000000</td>\n",
       "      <td>1.000000</td>\n",
       "      <td>NaN</td>\n",
       "      <td>0.000000</td>\n",
       "    </tr>\n",
       "    <tr>\n",
       "      <th>25%</th>\n",
       "      <td>NaN</td>\n",
       "      <td>NaN</td>\n",
       "      <td>4.000000</td>\n",
       "      <td>4.000000</td>\n",
       "      <td>4.000000</td>\n",
       "      <td>NaN</td>\n",
       "      <td>24.000000</td>\n",
       "      <td>4.000000</td>\n",
       "      <td>NaN</td>\n",
       "      <td>2.000000</td>\n",
       "    </tr>\n",
       "    <tr>\n",
       "      <th>50%</th>\n",
       "      <td>NaN</td>\n",
       "      <td>NaN</td>\n",
       "      <td>8.000000</td>\n",
       "      <td>8.000000</td>\n",
       "      <td>8.000000</td>\n",
       "      <td>NaN</td>\n",
       "      <td>26.000000</td>\n",
       "      <td>5.000000</td>\n",
       "      <td>NaN</td>\n",
       "      <td>4.000000</td>\n",
       "    </tr>\n",
       "    <tr>\n",
       "      <th>75%</th>\n",
       "      <td>NaN</td>\n",
       "      <td>NaN</td>\n",
       "      <td>13.000000</td>\n",
       "      <td>13.000000</td>\n",
       "      <td>13.000000</td>\n",
       "      <td>NaN</td>\n",
       "      <td>28.000000</td>\n",
       "      <td>6.000000</td>\n",
       "      <td>NaN</td>\n",
       "      <td>8.000000</td>\n",
       "    </tr>\n",
       "    <tr>\n",
       "      <th>max</th>\n",
       "      <td>NaN</td>\n",
       "      <td>NaN</td>\n",
       "      <td>22.000000</td>\n",
       "      <td>22.000000</td>\n",
       "      <td>22.000000</td>\n",
       "      <td>NaN</td>\n",
       "      <td>55.000000</td>\n",
       "      <td>7.000000</td>\n",
       "      <td>NaN</td>\n",
       "      <td>20.000000</td>\n",
       "    </tr>\n",
       "  </tbody>\n",
       "</table>\n",
       "</div>"
      ],
      "text/plain": [
       "       genre   Race     position        order      partner income  \\\n",
       "count   8378   8378  8378.000000  8378.000000  8378.000000   8378   \n",
       "unique     2      5          NaN          NaN          NaN    263   \n",
       "top     Male  White          NaN          NaN          NaN          \n",
       "freq    4194   4727          NaN          NaN          NaN   4099   \n",
       "mean     NaN    NaN     9.042731     8.927668     8.963595    NaN   \n",
       "std      NaN    NaN     5.514939     5.477009     5.491068    NaN   \n",
       "min      NaN    NaN     1.000000     1.000000     1.000000    NaN   \n",
       "25%      NaN    NaN     4.000000     4.000000     4.000000    NaN   \n",
       "50%      NaN    NaN     8.000000     8.000000     8.000000    NaN   \n",
       "75%      NaN    NaN    13.000000    13.000000    13.000000    NaN   \n",
       "max      NaN    NaN    22.000000    22.000000    22.000000    NaN   \n",
       "\n",
       "              age_o         date   career       expnum  \n",
       "count   8274.000000  8281.000000     8378  1800.000000  \n",
       "unique          NaN          NaN      368          NaN  \n",
       "top             NaN          NaN  Finance          NaN  \n",
       "freq            NaN          NaN      202          NaN  \n",
       "mean      26.364999     5.006762      NaN     5.570556  \n",
       "std        3.563648     1.444531      NaN     4.762569  \n",
       "min       18.000000     1.000000      NaN     0.000000  \n",
       "25%       24.000000     4.000000      NaN     2.000000  \n",
       "50%       26.000000     5.000000      NaN     4.000000  \n",
       "75%       28.000000     6.000000      NaN     8.000000  \n",
       "max       55.000000     7.000000      NaN    20.000000  "
      ]
     },
     "execution_count": 310,
     "metadata": {},
     "output_type": "execute_result"
    }
   ],
   "source": [
    "data.describe(include='all')"
   ]
  },
  {
   "cell_type": "markdown",
   "metadata": {},
   "source": [
    "### 1.2.4 Variables qualitatives"
   ]
  },
  {
   "cell_type": "code",
   "execution_count": 227,
   "metadata": {},
   "outputs": [],
   "source": [
    "#sns.pairplot(data, hue=\"PTRAVEL\");"
   ]
  },
  {
   "cell_type": "code",
   "execution_count": 280,
   "metadata": {},
   "outputs": [],
   "source": [
    "career = data[\"career\"].value_counts()"
   ]
  },
  {
   "cell_type": "code",
   "execution_count": 281,
   "metadata": {},
   "outputs": [
    {
     "data": {
      "text/plain": [
       "Finance                     202\n",
       "professor                   199\n",
       "Lawyer                      154\n",
       "Professor                   148\n",
       "Consulting                  147\n",
       "                           ... \n",
       "a research position           5\n",
       "MBA                           5\n",
       "teaching                      5\n",
       "engineering professional      5\n",
       "Asset Management              5\n",
       "Name: career, Length: 368, dtype: int64"
      ]
     },
     "execution_count": 281,
     "metadata": {},
     "output_type": "execute_result"
    }
   ],
   "source": [
    "career"
   ]
  },
  {
   "cell_type": "code",
   "execution_count": 229,
   "metadata": {},
   "outputs": [
    {
     "data": {
      "text/plain": [
       "Male      4194\n",
       "Female    4184\n",
       "Name: genre, dtype: int64"
      ]
     },
     "execution_count": 229,
     "metadata": {},
     "output_type": "execute_result"
    }
   ],
   "source": [
    " data[\"genre\"].value_counts()"
   ]
  },
  {
   "cell_type": "markdown",
   "metadata": {},
   "source": [
    "# 2. Data Visualisation"
   ]
  },
  {
   "cell_type": "markdown",
   "metadata": {},
   "source": [
    "## 2.1 Répartiontion homme - femme"
   ]
  },
  {
   "cell_type": "code",
   "execution_count": 268,
   "metadata": {},
   "outputs": [],
   "source": [
    "df1 = data[\"Race\"].value_counts()"
   ]
  },
  {
   "cell_type": "code",
   "execution_count": 270,
   "metadata": {},
   "outputs": [
    {
     "data": {
      "text/plain": [
       "White       4727\n",
       "Asian       1982\n",
       "Hispanic     664\n",
       "NaN          585\n",
       "Black        420\n",
       "Name: Race, dtype: int64"
      ]
     },
     "execution_count": 270,
     "metadata": {},
     "output_type": "execute_result"
    }
   ],
   "source": [
    "df1"
   ]
  },
  {
   "cell_type": "code",
   "execution_count": 338,
   "metadata": {},
   "outputs": [
    {
     "data": {
      "image/png": "[encoded data removed]",
      "text/plain": [
       "<Figure size 432x288 with 1 Axes>"
      ]
     },
     "metadata": {},
     "output_type": "display_data"
    }
   ],
   "source": [
    "fig, ax = plt.subplots()\n",
    "ax.pie(df1, \n",
    "       autopct='%1.1f%%',\n",
    "       shadow=True, \n",
    "       startangle=90,\n",
    "       explode=explode,\n",
    "       radius=1.5\n",
    "       )\n",
    "fig.legend(df1.index)\n",
    "plt.savefig('race.png')"
   ]
  },
  {
   "cell_type": "code",
   "execution_count": 230,
   "metadata": {},
   "outputs": [],
   "source": []
  },
  {
   "cell_type": "code",
   "execution_count": 272,
   "metadata": {},
   "outputs": [],
   "source": [
    "df2 = data[\"genre\"].value_counts()"
   ]
  },
  {
   "cell_type": "code",
   "execution_count": 273,
   "metadata": {},
   "outputs": [
    {
     "data": {
      "text/plain": [
       "Male      4194\n",
       "Female    4184\n",
       "Name: genre, dtype: int64"
      ]
     },
     "execution_count": 273,
     "metadata": {},
     "output_type": "execute_result"
    }
   ],
   "source": [
    "df2"
   ]
  },
  {
   "cell_type": "code",
   "execution_count": 337,
   "metadata": {},
   "outputs": [
    {
     "data": {
      "image/png": "[encoded data removed]",
      "text/plain": [
       "<Figure size 432x288 with 1 Axes>"
      ]
     },
     "metadata": {},
     "output_type": "display_data"
    }
   ],
   "source": [
    "fig, ax = plt.subplots()\n",
    "ax.pie(genre, \n",
    "       autopct='%1.1f%%',\n",
    "       shadow=True, \n",
    "       startangle=90,\n",
    "       #explode=explode,\n",
    "       radius=1.5\n",
    "       )\n",
    "fig.legend(genre.index)\n",
    "plt.savefig('sex.png')"
   ]
  },
  {
   "cell_type": "markdown",
   "metadata": {},
   "source": [
    "## 2.2 normalité des variables income et age"
   ]
  },
  {
   "cell_type": "code",
   "execution_count": 339,
   "metadata": {},
   "outputs": [
    {
     "data": {
      "image/png": "[encoded data removed]",
      "text/plain": [
       "<Figure size 432x288 with 1 Axes>"
      ]
     },
     "metadata": {
      "needs_background": "light"
     },
     "output_type": "display_data"
    },
    {
     "data": {
      "text/plain": [
       "<Figure size 432x288 with 0 Axes>"
      ]
     },
     "metadata": {},
     "output_type": "display_data"
    }
   ],
   "source": [
    "sns.distplot(data['age_o'][data['age_o'].notnull()])\n",
    "plt.show()\n",
    "plt.savefig('dist1.png')"
   ]
  },
  {
   "cell_type": "code",
   "execution_count": 334,
   "metadata": {},
   "outputs": [
    {
     "data": {
      "image/png": "[encoded data removed]",
      "text/plain": [
       "<Figure size 360x360 with 1 Axes>"
      ]
     },
     "metadata": {
      "needs_background": "light"
     },
     "output_type": "display_data"
    }
   ],
   "source": [
    "sns.catplot(x='genre', y='age_o', data=data, kind='box')\n",
    "plt.savefig('box.png')"
   ]
  },
  {
   "cell_type": "markdown",
   "metadata": {},
   "source": [
    "# 3. Regression"
   ]
  },
  {
   "cell_type": "code",
   "execution_count": 318,
   "metadata": {},
   "outputs": [],
   "source": [
    "#sns.relplot(x=\"income\", y=\"order\", data=data)"
   ]
  },
  {
   "cell_type": "code",
   "execution_count": 335,
   "metadata": {},
   "outputs": [
    {
     "data": {
      "image/png": "[encoded data removed]",
      "text/plain": [
       "<Figure size 360x360 with 1 Axes>"
      ]
     },
     "metadata": {
      "needs_background": "light"
     },
     "output_type": "display_data"
    }
   ],
   "source": [
    "sns.lmplot(x=\"age_o\", y=\"gender\", data=data, logistic =True)\n",
    "plt.savefig('reg.png')"
   ]
  },
  {
   "cell_type": "code",
   "execution_count": 326,
   "metadata": {},
   "outputs": [],
   "source": [
    "#sns.lmplot(x=\"career\", y=\"gender\", data=data, logistic =True)"
   ]
  },
  {
   "cell_type": "markdown",
   "metadata": {},
   "source": [
    "# 4. Correlation & Dependance"
   ]
  },
  {
   "cell_type": "code",
   "execution_count": 195,
   "metadata": {},
   "outputs": [],
   "source": [
    "corr=data.corr()"
   ]
  },
  {
   "cell_type": "code",
   "execution_count": 336,
   "metadata": {},
   "outputs": [
    {
     "data": {
      "image/png": "[encoded data removed]",
      "text/plain": [
       "<Figure size 1440x720 with 2 Axes>"
      ]
     },
     "metadata": {
      "needs_background": "light"
     },
     "output_type": "display_data"
    }
   ],
   "source": [
    "fig,ax=plt.subplots(1,1,figsize=(20,10))\n",
    "sns.heatmap(corr,\n",
    "            annot=True,\n",
    "            cmap='RdYlGn',\n",
    "            ax=ax)\n",
    "plt.savefig('corr.png')"
   ]
  },
  {
   "cell_type": "markdown",
   "metadata": {},
   "source": [
    " "
   ]
  }
 ],
 "metadata": {
  "kernelspec": {
   "display_name": "Python 3",
   "language": "python",
   "name": "python3"
  },
  "language_info": {
   "codemirror_mode": {
    "name": "ipython",
    "version": 3
   },
   "file_extension": ".py",
   "mimetype": "text/x-python",
   "name": "python",
   "nbconvert_exporter": "python",
   "pygments_lexer": "ipython3",
   "version": "3.8.2"
  },
  "toc": {
   "base_numbering": 1,
   "nav_menu": {},
   "number_sections": true,
   "sideBar": true,
   "skip_h1_title": false,
   "title_cell": "Table of Contents",
   "title_sidebar": "Contents",
   "toc_cell": false,
   "toc_position": {
    "height": "calc(100% - 180px)",
    "left": "10px",
    "top": "150px",
    "width": "294.067px"
   },
   "toc_section_display": true,
   "toc_window_display": true
  },
  "varInspector": {
   "cols": {
    "lenName": 16,
    "lenType": 16,
    "lenVar": 40
   },
   "kernels_config": {
    "python": {
     "delete_cmd_postfix": "",
     "delete_cmd_prefix": "del ",
     "library": "var_list.py",
     "varRefreshCmd": "print(var_dic_list())"
    },
    "r": {
     "delete_cmd_postfix": ") ",
     "delete_cmd_prefix": "rm(",
     "library": "var_list.r",
     "varRefreshCmd": "cat(var_dic_list()) "
    }
   },
   "types_to_exclude": [
    "module",
    "function",
    "builtin_function_or_method",
    "instance",
    "_Feature"
   ],
   "window_display": false
  }
 },
 "nbformat": 4,
 "nbformat_minor": 4
}
